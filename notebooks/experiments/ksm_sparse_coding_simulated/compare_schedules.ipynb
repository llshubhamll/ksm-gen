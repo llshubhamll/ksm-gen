{
 "cells": [
  {
   "cell_type": "markdown",
   "metadata": {},
   "source": [
    "# Description\n",
    "\n",
    "The goal of this notebook is to visualize and compare the optimization under 3 different schemes:"
   ]
  },
  {
   "cell_type": "code",
   "execution_count": 28,
   "metadata": {},
   "outputs": [
    {
     "name": "stdout",
     "output_type": "stream",
     "text": [
      "The autoreload extension is already loaded. To reload it, use:\n",
      "  %reload_ext autoreload\n"
     ]
    }
   ],
   "source": [
    "%load_ext autoreload\n",
    "%autoreload 2"
   ]
  },
  {
   "cell_type": "code",
   "execution_count": 29,
   "metadata": {},
   "outputs": [],
   "source": [
    "import os\n",
    "import numpy as np\n",
    "import torch\n",
    "import matplotlib.pyplot as plt\n",
    "import seaborn as sns\n",
    "import pickle\n",
    "import hydra\n",
    "\n",
    "from omegaconf import OmegaConf, DictConfig\n",
    "from pprint import pprint\n",
    "from pathlib import Path"
   ]
  },
  {
   "cell_type": "code",
   "execution_count": 30,
   "metadata": {},
   "outputs": [],
   "source": [
    "sns.set_style('ticks')\n",
    "sns.set_context(\"paper\", font_scale=1.0, rc={\"text.usetex\": True})\n",
    "sns.set_palette(\"colorblind\")\n",
    "sns.set_style({\"font.family\": \"serif\", \"font.serif\": [\"Times New Roman\"]})\n",
    "project_dir = Path('/n/home13/shubham/Current Projects/bioplausible_learning/code')"
   ]
  },
  {
   "cell_type": "code",
   "execution_count": 31,
   "metadata": {},
   "outputs": [
    {
     "name": "stdout",
     "output_type": "stream",
     "text": [
      "{'dataset': {'batch_size': 128,\n",
      "             'dim': 30,\n",
      "             'n_samples': 1500,\n",
      "             'name': 'highdim'},\n",
      " 'device': 'device',\n",
      " 'model': {'K': 16,\n",
      "           'Winit': 'Kmeans',\n",
      "           'lam': 0.5,\n",
      "           'omega': 0.0001,\n",
      "           'perturbation': 0.1,\n",
      "           'rho': 1.0,\n",
      "           'sparsity': 0.125},\n",
      " 'optimizer': {'Minit': 'zero',\n",
      "               'latent_iters': 15,\n",
      "               'log_interval': 10,\n",
      "               'lrs': {'Z': 0.01,\n",
      "                       'Z_decay': 0.9,\n",
      "                       'interval': 10,\n",
      "                       'params': 0.01},\n",
      "               'max_epochs': 3000,\n",
      "               'param_iters': 1,\n",
      "               'vis_interval': 20}}\n"
     ]
    }
   ],
   "source": [
    "with hydra.initialize(version_base=None, config_path=\"../../../configs\"):\n",
    "    cfg = hydra.compose(config_name='ksm_high_dim.yaml')\n",
    "    exp_params = OmegaConf.to_container(cfg, resolve=True)\n",
    "    \n",
    "\n",
    "device = torch.device('cuda' if torch.cuda.is_available() else 'cpu')\n",
    "\n",
    "exp_params['device'] = 'device'\n",
    "\n",
    "# figfolder = Path(f'../../results/simulated/highdim/{datetime.now().strftime(\"%m-%d\")}/{datetime.now().strftime(\"%H-%M\")}')\n",
    "# os.makedirs(figfolder, exist_ok=True)    \n",
    "pprint(exp_params)    "
   ]
  },
  {
   "cell_type": "code",
   "execution_count": 32,
   "metadata": {},
   "outputs": [],
   "source": [
    "# Load loss curves\n",
    "method = 'altmin'\n",
    "result_folder = Path.cwd() / 'results' / '06-17' / f'{method}'\n",
    "filename = f\"ksm_{method}_K{exp_params['model']['K']}_lam{exp_params['model']['lam']:.2e}_n{exp_params['dataset']['dim']}_epochs3500.pkl\"\n",
    "with open(result_folder / filename, 'rb') as f:\n",
    "    results_altmin = pickle.load(f)"
   ]
  },
  {
   "cell_type": "code",
   "execution_count": 33,
   "metadata": {},
   "outputs": [
    {
     "data": {
      "text/plain": [
       "dict_keys(['total_loss', 'similarity_loss', 'l1_loss', 'penalty', 'sparsity', 'r2_W', 'r2_est', 'dw_sim', 'dest_sim', 'latent_sim'])"
      ]
     },
     "execution_count": 33,
     "metadata": {},
     "output_type": "execute_result"
    }
   ],
   "source": [
    "loss_vals_altmin = results_altmin['loss_vals']\n",
    "loss_vals_altmin.keys()"
   ]
  },
  {
   "cell_type": "code",
   "execution_count": 34,
   "metadata": {},
   "outputs": [],
   "source": [
    "method = 'Ptrack'\n",
    "result_folder = Path.cwd() / 'results' / '06-17' / f'{method}'\n",
    "filename = f\"ksm_{method}_K{exp_params['model']['K']}_lam{exp_params['model']['lam']:.2e}_n{exp_params['dataset']['dim']}_epochs3500.pkl\"\n",
    "with open(result_folder / filename, 'rb') as f:\n",
    "    results_Ptrack = pickle.load(f)\n",
    "loss_vals_Ptrack = results_Ptrack['loss_vals']"
   ]
  },
  {
   "cell_type": "code",
   "execution_count": 35,
   "metadata": {},
   "outputs": [],
   "source": [
    "method = 'Notrack'\n",
    "result_folder = Path.cwd() / 'results' / '06-17' / f'{method}'\n",
    "filename = f\"ksm_K{exp_params['model']['K']}_lam{exp_params['model']['lam']:.2e}_n{exp_params['dataset']['dim']}_epochs3500.pkl\"\n",
    "with open(result_folder / filename, 'rb') as f:\n",
    "    results_Notrack = pickle.load(f)\n",
    "loss_vals_Notrack = results_Notrack['loss_vals']"
   ]
  },
  {
   "cell_type": "code",
   "execution_count": null,
   "metadata": {},
   "outputs": [],
   "source": [
    "# Let's plot the losses\n",
    "fig, axs = plt.subplots(1, 4, figsize=(20, 4))\n",
    "exp_params['optimizer']['log_interval'] = 10\n",
    "exp_params['optimizer']['max_epochs'] = 3500\n",
    "iterations = np.arange(0, exp_params['optimizer']['max_epochs'], step=exp_params['optimizer']['log_interval'])\n",
    "ax = axs[0]\n",
    "epochs_altmin = 3500 // exp_params['optimizer']['log_interval']\n",
    "# epochs_altmin = iterations\n",
    "ax.plot(iterations[1:epochs_altmin], loss_vals_altmin['total_loss'][1:], c='g', label='Schedule 1', linestyle='--')\n",
    "ax.plot(iterations[1:epochs_altmin], loss_vals_Ptrack['total_loss'][1:], c='r', label='Schedule 2', linestyle=':', linewidth=3.0)\n",
    "ax.plot(iterations[1:], loss_vals_Notrack['total_loss'][1:], c='b', label='Schedule 3', linestyle='-.')\n",
    "ax.legend()\n",
    "ax.set_title('Total Loss')\n",
    "\n",
    "ax.set_xscale('log')\n",
    "ax.set_xlabel('Iterations')\n",
    "ax.set_ylabel('Loss')\n",
    "\n",
    "ax = axs[1]\n",
    "ax.plot(iterations[1:epochs_altmin], loss_vals_altmin['similarity_loss'][1:], c='b', label='Schedule 1')\n",
    "ax.plot(iterations[1:epochs_altmin], loss_vals_Ptrack['similarity_loss'][1:], c='orange', label='Schedule 2')\n",
    "ax.plot(iterations[1:], loss_vals_Notrack['similarity_loss'][1:], c='g', label='Schedule 3')\n",
    "ax.legend()\n",
    "ax.set_title('Similarity Loss')\n",
    "ax.set_xscale('log')\n",
    "ax.set_xlabel('Iterations')\n",
    "\n",
    "ax = axs[2]\n",
    "ax.plot(iterations[:epochs_altmin], loss_vals_altmin['sparsity'], c='g', label='Schedule 1', linestyle='--')\n",
    "ax.plot(iterations[:epochs_altmin], loss_vals_Ptrack['sparsity'], c='r', label='Schedule 2', linestyle=':', linewidth=3.0)\n",
    "ax.plot(iterations, loss_vals_Notrack['sparsity'], c='b', label='Schedule 3', linestyle='-.')\n",
    "ax.set_title(r'Sparsity Measure $\\lambda=0.5$')\n",
    "ax.legend()\n",
    "ax.set_xscale('log')\n",
    "ax.set_xlabel('Iterations')\n",
    "\n",
    "ax = axs[3]\n",
    "ax.plot(iterations[:epochs_altmin], loss_vals_altmin['penalty'], c='b', label='Schedule 1')\n",
    "ax.plot(iterations[:epochs_altmin], loss_vals_Ptrack['penalty'], c='orange', label='Schedule 2')\n",
    "ax.plot(iterations, loss_vals_Notrack['penalty'], c='g', label='Schedule 3')\n",
    "ax.set_title('Penalty')\n",
    "ax.legend()\n",
    "ax.set_xscale('log')\n",
    "ax.set_xlabel('Iterations')\n",
    "\n",
    "\n",
    "fig.savefig('train_losses.pdf', format='pdf', bbox_inches='tight')\n",
    "\n",
    "\n",
    "# # ax.plot(loss_vals['loss_Z'])\n",
    "\n",
    "\n",
    "# Plot the r2 score and similarity measures\n",
    "fig, axs = plt.subplots(1, 3, figsize=(15, 4))\n",
    "ax = axs[0]\n",
    "# ax.plot(iterations[1:epochs_altmin], loss_vals_altmin['r2_W'][1:], label='KSM altmin')\n",
    "# ax.plot(iterations[1:epochs_altmin], loss_vals_Ptrack['r2_W'][1:], label='KSM P track')\n",
    "# ax.plot(iterations[1:], loss_vals_Notrack['r2_W'][1:], label='KSM')\n",
    "# ax.legend()\n",
    "ax.plot(iterations[1:epochs_altmin], loss_vals_altmin['r2_est'][1:], label='Schedule 1', c='g', linestyle='--')\n",
    "ax.plot(iterations[1:epochs_altmin], loss_vals_Ptrack['r2_est'][1:], label='Schedule 2', c='r', linestyle=':', linewidth=3.0)\n",
    "ax.plot(iterations[1:], loss_vals_Notrack['r2_est'][1:], label='Schedule 3', c='b', linestyle='-.')\n",
    "ax.legend()\n",
    "# ax.plot(iterations[1:], loss_vals['r2_est'][1:], label=r'$R^2$ (Estimated)')\n",
    "ax.set_xscale('log')\n",
    "ax.set_title(r'$R^2$ values')\n",
    "ax.set_xlabel('Iterations')\n",
    "ax.set_ylabel('Value')\n",
    "# ax.legend()\n",
    "\n",
    "ax = axs[1]\n",
    "ax.plot(iterations[:epochs_altmin], loss_vals_altmin['dw_sim'], label='Schedule 1')\n",
    "ax.plot(iterations[:epochs_altmin], loss_vals_Ptrack['dw_sim'], label='Schedule 2')\n",
    "ax.plot(iterations, loss_vals_Notrack['dw_sim'], label='Schedule 3')\n",
    "# ax.plot(iterations, loss_vals['dest_sim'], label='cos sim (est)')\n",
    "ax.set_xscale('log')\n",
    "ax.set_title('Cos Similarity for estimated dictionary')\n",
    "ax.set_xlabel('Iterations')\n",
    "ax.set_ylabel('Value')\n",
    "ax.legend()\n",
    "\n",
    "ax = axs[2]\n",
    "ax.plot(iterations[:epochs_altmin], loss_vals_altmin['latent_sim'], label='Schedule 1')\n",
    "ax.plot(iterations[:epochs_altmin], loss_vals_Ptrack['latent_sim'], label='Schedule 2')\n",
    "ax.plot(iterations, loss_vals_Notrack['latent_sim'], label='Schedule 3')\n",
    "ax.set_xscale('log')\n",
    "ax.set_title('Cos Similarity for latent codes')\n",
    "ax.set_xlabel('Iterations')\n",
    "ax.set_ylabel('Value')\n",
    "\n",
    "# # fig.savefig(results_folder / 'r2_n_cossim.pdf', format='pdf', bbox_inches='tight')\n",
    "fig.savefig('loss_curves.pdf', format='pdf', bbox_inches='tight')\n",
    "fig.show()\n"
   ]
  },
  {
   "cell_type": "code",
   "execution_count": null,
   "metadata": {},
   "outputs": [],
   "source": [
    "# compute likelihood ratio for r2 values\n",
    "r2_W = np.array(loss_vals_altmin['r2_W'])\n",
    "r2_est = np.array(loss_vals_altmin['r2_est'])\n",
    "r2_W_notrack = np.array(loss_vals_Notrack['r2_W'])\n",
    "r2_W_Ptrack = np.array(loss_vals_Ptrack['r2_W'])\n",
    "r2_est_notrack = np.array(loss_vals_Notrack['r2_est'])\n",
    "r2_est_Ptrack = np.array(loss_vals_Ptrack['r2_est'])\n",
    "# Plot convergence rate of r2 values\n",
    "epsilon = 1e-10\n",
    "ratio = np.abs(r2_est[1:] - 1 + epsilon) / np.abs(r2_est[:-1] - 1 + epsilon)\n",
    "# ratio = np.abs(np.diff(r2_W[1:]) / np.diff(r2_W[:-1]))\n",
    "ration_notrack = np.abs(r2_est_notrack[1:] - 1 + epsilon) / np.abs(r2_est_notrack[:-1] - 1 + epsilon)\n",
    "ratio_Ptrack = np.abs(r2_est_Ptrack[1:] - 1 + epsilon) / np.abs(r2_est_Ptrack[:-1] - 1 + epsilon)\n",
    "fig, ax = plt.subplots(1, 1, figsize=(8, 6))\n",
    "# ax.plot(iterations[:-1], np.log10(ratio), label='KSM altmin')\n",
    "\n",
    "r_k = np.log10(np.abs(r2_est[1:] - 1 + epsilon))\n",
    "r_k1 = np.log10(np.abs(r2_est[:-1] - 1 + epsilon))\n",
    "r_k_notrack = np.log10(np.abs(r2_est_notrack[1:] - 1 + epsilon))\n",
    "r_k1_notrack = np.log10(np.abs(r2_est_notrack[:-1] - 1 + epsilon))\n",
    "r_k_Ptrack = np.log10(np.abs(r2_est_Ptrack[1:] - 1 + epsilon))\n",
    "r_k1_Ptrack = np.log10(np.abs(r2_est_Ptrack[:-1] - 1 + epsilon))\n",
    "ax.plot(r_k1_Ptrack, r_k_Ptrack, label='Schedule 2', c='r', linestyle=':', linewidth=3)\n",
    "ax.plot(r_k1, r_k, label='Schedule 1', linestyle='--', c='g')\n",
    "ax.plot(r_k1_notrack, r_k_notrack, label='Schedule 3', c='b', linestyle='-.')\n",
    "# ax.plot(iterations[1:], ration_notrack, label='KSM')\n",
    "# ax.plot(iterations[1:], ratio_Ptrack, label='KSM P track')\n",
    "ax.tick_params(top=True, labeltop=True, bottom=False, labelbottom=False)\n",
    "ax.xaxis.set_label_position('top') \n",
    "ax.yaxis.tick_right()\n",
    "ax.set_ylabel(r'$\\log_{10}(|R^2_{k} - 1|)$')\n",
    "\n",
    "ax.set_xlabel(r'$\\log_{10}(|R^2_{k-1} - 1|)$')\n",
    "ax.legend()\n",
    "ax.set_title('Convergence rate of $R^2$ values', y=-0.05)\n",
    "fig.savefig('r2_convergence.pdf', format='pdf', bbox_inches='tight')\n",
    "# ax.set_xscale('log')\n",
    "# ax.set_yscale('log')"
   ]
  }
 ],
 "metadata": {
  "kernelspec": {
   "display_name": "representations",
   "language": "python",
   "name": "python3"
  },
  "language_info": {
   "codemirror_mode": {
    "name": "ipython",
    "version": 3
   },
   "file_extension": ".py",
   "mimetype": "text/x-python",
   "name": "python",
   "nbconvert_exporter": "python",
   "pygments_lexer": "ipython3",
   "version": "3.10.13"
  }
 },
 "nbformat": 4,
 "nbformat_minor": 2
}
